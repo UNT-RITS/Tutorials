{
 "cells": [
  {
   "cell_type": "markdown",
   "metadata": {
    "colab_type": "text",
    "id": "lMagHqIDc09P"
   },
   "source": [
    "## How to parse text data"
   ]
  },
  {
   "cell_type": "markdown",
   "metadata": {
    "colab_type": "text",
    "id": "VLsvS1u7cnpd"
   },
   "source": [
    "## Example:\n",
    "\n",
    "### Texas is the    second-largest U.S. state, after Alaska, with an area of 268,820 square miles (696,200 km2). \n",
    "\n",
    "### The name Texas, based on the Caddo word táyshaʼ (/t'ajʃaʔ/) 'friend', was applied, in the spelling Tejas or Texas, [17] by the Spanish to the Caddo themselves, specifically the Hasinai Confederacy,[18] the final -s representing the Spanish plural."
   ]
  },
  {
   "cell_type": "markdown",
   "metadata": {
    "colab_type": "text",
    "id": "nNPlPgKSdR2p"
   },
   "source": [
    "## NLTK"
   ]
  },
  {
   "cell_type": "code",
   "execution_count": 1,
   "metadata": {
    "colab": {
     "base_uri": "https://localhost:8080/",
     "height": 85
    },
    "colab_type": "code",
    "id": "1tO4IKUcccvj",
    "outputId": "c8a71f57-1441-4084-b03e-a67309fa8fb2"
   },
   "outputs": [
    {
     "name": "stderr",
     "output_type": "stream",
     "text": [
      "[nltk_data] Downloading package punkt to /home/gm0234/nltk_data...\n",
      "[nltk_data]   Package punkt is already up-to-date!\n",
      "[nltk_data] Downloading package stopwords to /home/gm0234/nltk_data...\n",
      "[nltk_data]   Package stopwords is already up-to-date!\n"
     ]
    }
   ],
   "source": [
    "import nltk\n",
    "\n",
    "# split sentences\n",
    "from nltk import sent_tokenize\n",
    "nltk.download('punkt')\n",
    "\n",
    "# split into words\n",
    "from nltk.tokenize import word_tokenize\n",
    "\n",
    "# remove stop words\n",
    "from nltk.corpus import stopwords\n",
    "nltk.download('stopwords')\n",
    "\n",
    "# stemming of words\n",
    "from nltk.stem.porter import PorterStemmer\n"
   ]
  },
  {
   "cell_type": "code",
   "execution_count": 2,
   "metadata": {
    "colab": {
     "base_uri": "https://localhost:8080/",
     "height": 122
    },
    "colab_type": "code",
    "id": "x9LkuDUFdZPm",
    "outputId": "5b8b8bd3-36fb-435a-8582-9a6ab25fe6ef"
   },
   "outputs": [
    {
     "name": "stdout",
     "output_type": "stream",
     "text": [
      "Texas is the    second-largest U.S. state, after Alaska, with an area of 268,820 square miles (696,200 km2). The name Texas, based on the Caddo word táyshaʼ (/t'ajʃaʔ/) 'friend', was applied, in the spelling Tejas or Texas, [17] by the Spanish to the Caddo themselves, specifically the Hasinai Confederacy,[18] the final -s representing the Spanish plural.\n",
      "['Texas is the    second-largest U.S. state, after Alaska, with an area of 268,820 square miles (696,200 km2).', \"The name Texas, based on the Caddo word táyshaʼ (/t'ajʃaʔ/) 'friend', was applied, in the spelling Tejas or Texas, [17] by the Spanish to the Caddo themselves, specifically the Hasinai Confederacy,[18] the final -s representing the Spanish plural.\"]\n",
      "['Texas', 'is', 'the', 'second-largest', 'U.S.', 'state', ',', 'after', 'Alaska', ',', 'with', 'an', 'area', 'of', '268,820', 'square', 'miles', '(', '696,200', 'km2', ')', '.', 'The', 'name', 'Texas', ',', 'based', 'on', 'the', 'Caddo', 'word', 'táyshaʼ', '(', \"/t'ajʃaʔ/\", ')', \"'friend\", \"'\", ',', 'was', 'applied', ',', 'in', 'the', 'spelling', 'Tejas', 'or', 'Texas', ',', '[', '17', ']', 'by', 'the', 'Spanish', 'to', 'the', 'Caddo', 'themselves', ',', 'specifically', 'the', 'Hasinai', 'Confederacy', ',', '[', '18', ']', 'the', 'final', '-s', 'representing', 'the', 'Spanish', 'plural', '.']\n",
      "['Texas', 'second-largest', 'U.S.', 'state', ',', 'Alaska', ',', 'area', '268,820', 'square', 'miles', '(', '696,200', 'km2', ')', '.', 'The', 'name', 'Texas', ',', 'based', 'Caddo', 'word', 'táyshaʼ', '(', \"/t'ajʃaʔ/\", ')', \"'friend\", \"'\", ',', 'applied', ',', 'spelling', 'Tejas', 'Texas', ',', '[', '17', ']', 'Spanish', 'Caddo', ',', 'specifically', 'Hasinai', 'Confederacy', ',', '[', '18', ']', 'final', '-s', 'representing', 'Spanish', 'plural', '.']\n",
      "['texa', 'second-largest', 'u.s.', 'state', ',', 'alaska', ',', 'area', '268,820', 'squar', 'mile', '(', '696,200', 'km2', ')', '.', 'the', 'name', 'texa', ',', 'base', 'caddo', 'word', 'táyshaʼ', '(', \"/t'ajʃaʔ/\", ')', \"'friend\", \"'\", ',', 'appli', ',', 'spell', 'teja', 'texa', ',', '[', '17', ']', 'spanish', 'caddo', ',', 'specif', 'hasinai', 'confederaci', ',', '[', '18', ']', 'final', '-s', 'repres', 'spanish', 'plural', '.']\n"
     ]
    }
   ],
   "source": [
    "text = \"Texas is the    second-largest U.S. state, after Alaska, with an area of 268,820 square miles (696,200 km2). \\\n",
    "The name Texas, based on the Caddo word táyshaʼ (/t'ajʃaʔ/) 'friend', was applied, in the spelling Tejas or Texas, \\\n",
    "[17] by the Spanish to the Caddo themselves, specifically the Hasinai Confederacy,[18] the final -s representing the Spanish plural.\"\n",
    "\n",
    "print(text)\n",
    "\n",
    "# split sentences\n",
    "sentences = sent_tokenize(text)\n",
    "print(sentences)\n",
    "\n",
    "# split into words\n",
    "words = word_tokenize(text)\n",
    "print(words)\n",
    "\n",
    "# remove stop words\n",
    "stop_words = stopwords.words('english')\n",
    "words = [w for w in words if not w in stop_words]\n",
    "print(words)\n",
    "\n",
    "# stemming words\n",
    "porter = PorterStemmer()\n",
    "stemmed = [porter.stem(word) for word in words]\n",
    "\n",
    "print(stemmed)"
   ]
  },
  {
   "cell_type": "markdown",
   "metadata": {
    "colab_type": "text",
    "id": "lPoYxo89djV8"
   },
   "source": [
    "## Spacy"
   ]
  },
  {
   "cell_type": "code",
   "execution_count": 3,
   "metadata": {
    "colab": {
     "base_uri": "https://localhost:8080/",
     "height": 122
    },
    "colab_type": "code",
    "id": "PHCwHFvzdiqZ",
    "outputId": "e794d83b-fb64-4861-df5b-57ee0c37b2cf"
   },
   "outputs": [
    {
     "name": "stdout",
     "output_type": "stream",
     "text": [
      "Texas is the    second-largest U.S. state, after Alaska, with an area of 268,820 square miles (696,200 km2). The name Texas, based on the Caddo word táyshaʼ (/t'ajʃaʔ/) 'friend', was applied, in the spelling Tejas or Texas, [17] by the Spanish to the Caddo themselves, specifically the Hasinai Confederacy,[18] the final -s representing the Spanish plural.\n",
      "[Texas is the    second-largest U.S. state, after Alaska, with an area of 268,820 square miles (696,200 km2)., The name Texas, based on the Caddo word táyshaʼ (/t'ajʃaʔ/) 'friend', was applied, in the spelling Tejas or Texas, [17] by the Spanish to the Caddo themselves, specifically the Hasinai Confederacy,[18] the final -s representing the Spanish plural.]\n",
      "[Texas, is, the,    , second, -, largest, U.S., state, ,, after, Alaska, ,, with, an, area, of, 268,820, square, miles, (, 696,200, km2, ), ., The, name, Texas, ,, based, on, the, Caddo, word, táyshaʼ, (, /t'ajʃaʔ/, ), ', friend, ', ,, was, applied, ,, in, the, spelling, Tejas, or, Texas, ,, [, 17, ], by, the, Spanish, to, the, Caddo, themselves, ,, specifically, the, Hasinai, Confederacy,[18, ], the, final, -s, representing, the, Spanish, plural, .]\n",
      "[Texas,    , second, -, largest, U.S., state, ,, Alaska, ,, area, 268,820, square, miles, (, 696,200, km2, ), ., Texas, ,, based, Caddo, word, táyshaʼ, (, /t'ajʃaʔ/, ), ', friend, ', ,, applied, ,, spelling, Tejas, Texas, ,, [, 17, ], Spanish, Caddo, ,, specifically, Hasinai, Confederacy,[18, ], final, -s, representing, Spanish, plural, .]\n",
      "['Texas', '   ', 'second', '-', 'large', 'U.S.', 'state', ',', 'Alaska', ',', 'area', '268,820', 'square', 'mile', '(', '696,200', 'km2', ')', '.', 'Texas', ',', 'base', 'Caddo', 'word', 'táyshaʼ', '(', \"/t'ajʃaʔ/\", ')', \"'\", 'friend', \"'\", ',', 'apply', ',', 'spelling', 'Tejas', 'Texas', ',', '[', '17', ']', 'Spanish', 'Caddo', ',', 'specifically', 'Hasinai', 'Confederacy,[18', ']', 'final', '-s', 'represent', 'spanish', 'plural', '.']\n"
     ]
    }
   ],
   "source": [
    "text = \"Texas is the    second-largest U.S. state, after Alaska, with an area of 268,820 square miles (696,200 km2). \\\n",
    "The name Texas, based on the Caddo word táyshaʼ (/t'ajʃaʔ/) 'friend', was applied, in the spelling Tejas or Texas, \\\n",
    "[17] by the Spanish to the Caddo themselves, specifically the Hasinai Confederacy,[18] the final -s representing the Spanish plural.\"\n",
    "\n",
    "print(text)\n",
    "\n",
    "import spacy\n",
    "nlp = spacy.load('en')\n",
    "\n",
    "document = nlp(text)\n",
    "\n",
    "# split sentences\n",
    "print(list(document.sents))\n",
    "\n",
    "# split into words\n",
    "print(list(document))\n",
    "\n",
    "# remove stop words\n",
    "print([word for word in document if not word.is_stop])\n",
    "\n",
    "# lematization\n",
    "lemmas = [token.lemma_ for token in document if not token.is_stop]\n",
    "print(lemmas)"
   ]
  },
  {
   "cell_type": "markdown",
   "metadata": {
    "colab_type": "text",
    "id": "piZp0d8jdsej"
   },
   "source": [
    "## Cleaning"
   ]
  },
  {
   "cell_type": "code",
   "execution_count": 4,
   "metadata": {
    "colab": {
     "base_uri": "https://localhost:8080/",
     "height": 122
    },
    "colab_type": "code",
    "id": "qhAy7EmyduBj",
    "outputId": "d1adaa12-9576-440f-e180-6df5162b446b"
   },
   "outputs": [
    {
     "name": "stdout",
     "output_type": "stream",
     "text": [
      "Texas is the    second-largest U.S. state, after Alaska, with an area of 268,820 square miles (696,200 km2). The name Texas, based on the Caddo word táyshaʼ (/t'ajʃaʔ/) 'friend', was applied, in the spelling Tejas or Texas, [17] by the Spanish to the Caddo themselves, specifically the Hasinai Confederacy,[18] the final -s representing the Spanish plural.\n",
      "Texas is the    second-largest U.S. state, after Alaska, with an area of 268,820 square miles (696,200 km2). The name Texas, based on the Caddo word taysha (/t'aja/) 'friend', was applied, in the spelling Tejas or Texas, [17] by the Spanish to the Caddo themselves, specifically the Hasinai Confederacy,[18] the final -s representing the Spanish plural.\n",
      "Texas is the    second-largest U.S. state  after Alaska  with an area of 268 820 square miles  696 200 km2 . The name Texas  based on the Caddo word taysha   t aja    friend   was applied  in the spelling Tejas or Texas   17  by the Spanish to the Caddo themselves  specifically the Hasinai Confederacy  18  the final -s representing the Spanish plural.\n",
      "Texas is the    second largest U S  state  after Alaska  with an area of 268 820 square miles  696 200 km2   The name Texas  based on the Caddo word taysha   t aja    friend   was applied  in the spelling Tejas or Texas   17  by the Spanish to the Caddo themselves  specifically the Hasinai Confederacy  18  the final  s representing the Spanish plural \n",
      "Texas is the second largest U S state after Alaska with an area of 268 820 square miles 696 200 km2 The name Texas based on the Caddo word taysha t aja friend was applied in the spelling Tejas or Texas 17 by the Spanish to the Caddo themselves specifically the Hasinai Confederacy 18 the final s representing the Spanish plural\n"
     ]
    }
   ],
   "source": [
    "import re\n",
    "from unicodedata import normalize\n",
    "\n",
    "text = \"Texas is the    second-largest U.S. state, after Alaska, with an area of 268,820 square miles (696,200 km2). \\\n",
    "The name Texas, based on the Caddo word táyshaʼ (/t'ajʃaʔ/) 'friend', was applied, in the spelling Tejas or Texas, \\\n",
    "[17] by the Spanish to the Caddo themselves, specifically the Hasinai Confederacy,[18] the final -s representing the Spanish plural.\"\n",
    "\n",
    "print(text)\n",
    "\n",
    "# normalize unicode\n",
    "text = normalize('NFD', text).encode('ascii', 'ignore')\n",
    "text = text.decode('utf-8')\n",
    "print(text)\n",
    "\n",
    "# remove punctuation\n",
    "number_handler = re.compile(r'(?<=\\d),(?=\\d)')\n",
    "punct_re = re.compile('[{}]'.format(re.escape('!\"#$%&\\'()*+,./:;<=>?@[\\\\]^_`{|}~-')))\n",
    "\n",
    "abreviation = re.compile('[^a-zA-Z0-9-_.]')\n",
    "text = abreviation.sub(' ', text)\n",
    "print(text)\n",
    "\n",
    "text = number_handler.sub('',text)\n",
    "text = punct_re.sub(' ', text)\n",
    "print(text)\n",
    "\n",
    "# remove any double whitespace\n",
    "text = ' '.join(text.split())\n",
    "print(text)"
   ]
  },
  {
   "cell_type": "code",
   "execution_count": 5,
   "metadata": {
    "colab": {},
    "colab_type": "code",
    "id": "fzpnvCtSligZ"
   },
   "outputs": [],
   "source": [
    "\"\"\" CLEAN TEXT FUNCTION \"\"\"\n",
    "\n",
    "def clean_text(text):\n",
    "    import re\n",
    "    from unicodedata import normalize\n",
    "\n",
    "    # normalize unicode\n",
    "    clean = normalize('NFD', text).encode('ascii', 'ignore')\n",
    "    clean = clean.decode('utf-8')\n",
    "\n",
    "    # remove punctuation\n",
    "    number_handler = re.compile(r'(?<=\\d),(?=\\d)')\n",
    "    punct_re = re.compile('[{}]'.format(re.escape('!\"#$%&\\'()*+,./:;<=>?@[\\\\]^_`{|}~-')))\n",
    "\n",
    "    abreviation = re.compile('[^a-zA-Z0-9-_.]')\n",
    "    clean = abreviation.sub(' ', clean)\n",
    "\n",
    "    clean = number_handler.sub('',clean)\n",
    "    clean = punct_re.sub(' ', clean)\n",
    "\n",
    "    # remove any double whitespace\n",
    "    clean = ' '.join(clean.split())\n",
    "\n",
    "    return clean\n"
   ]
  },
  {
   "cell_type": "code",
   "execution_count": 6,
   "metadata": {
    "colab": {
     "base_uri": "https://localhost:8080/",
     "height": 54
    },
    "colab_type": "code",
    "id": "b-Wx0Vvyl6EO",
    "outputId": "871f77b5-21a1-4c6c-8026-166c3160e3be"
   },
   "outputs": [
    {
     "data": {
      "text/plain": [
       "'Texas is the second largest U S state after Alaska with an area of 268 820 square miles 696 200 km2 The name Texas based on the Caddo word taysha t aja friend was applied in the spelling Tejas or Texas 17 by the Spanish to the Caddo themselves specifically the Hasinai Confederacy 18 the final s representing the Spanish plural'"
      ]
     },
     "execution_count": 6,
     "metadata": {},
     "output_type": "execute_result"
    }
   ],
   "source": [
    "clean_text(text)"
   ]
  }
 ],
 "metadata": {
  "colab": {
   "collapsed_sections": [],
   "name": "parse_text.ipynb",
   "provenance": [],
   "version": "0.3.2"
  },
  "kernelspec": {
   "display_name": "Python 3",
   "language": "python",
   "name": "python3"
  },
  "language_info": {
   "codemirror_mode": {
    "name": "ipython",
    "version": 3
   },
   "file_extension": ".py",
   "mimetype": "text/x-python",
   "name": "python",
   "nbconvert_exporter": "python",
   "pygments_lexer": "ipython3",
   "version": "3.6.5"
  }
 },
 "nbformat": 4,
 "nbformat_minor": 1
}
